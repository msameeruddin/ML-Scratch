{
 "cells": [
  {
   "cell_type": "markdown",
   "metadata": {},
   "source": [
    "<center><h1>Principal Component Analysis</h1></center>"
   ]
  },
  {
   "cell_type": "markdown",
   "metadata": {},
   "source": [
    "> [Helpful Link](https://builtin.com/data-science/step-step-explanation-principal-component-analysis)"
   ]
  },
  {
   "cell_type": "markdown",
   "metadata": {},
   "source": [
    "### `import` Packages"
   ]
  },
  {
   "cell_type": "code",
   "execution_count": 1,
   "metadata": {},
   "outputs": [],
   "source": [
    "import numpy as np\n",
    "import pandas as pd\n",
    "import seaborn as sns\n",
    "\n",
    "from scipy.linalg import eigh\n",
    "from matplotlib import pyplot as plt"
   ]
  },
  {
   "cell_type": "markdown",
   "metadata": {},
   "source": [
    "### Data Preparation"
   ]
  },
  {
   "cell_type": "code",
   "execution_count": 2,
   "metadata": {},
   "outputs": [],
   "source": [
    "size = (500, 10)\n",
    "cols = [str('col') + str(i) for i in range(size[1])]\n",
    "data = np.random.randint(low=5, high=20, size=size)\n",
    "data = pd.DataFrame(data=data, columns=cols)"
   ]
  },
  {
   "cell_type": "code",
   "execution_count": 3,
   "metadata": {},
   "outputs": [
    {
     "data": {
      "text/html": [
       "<div>\n",
       "<style scoped>\n",
       "    .dataframe tbody tr th:only-of-type {\n",
       "        vertical-align: middle;\n",
       "    }\n",
       "\n",
       "    .dataframe tbody tr th {\n",
       "        vertical-align: top;\n",
       "    }\n",
       "\n",
       "    .dataframe thead th {\n",
       "        text-align: right;\n",
       "    }\n",
       "</style>\n",
       "<table border=\"1\" class=\"dataframe\">\n",
       "  <thead>\n",
       "    <tr style=\"text-align: right;\">\n",
       "      <th></th>\n",
       "      <th>col0</th>\n",
       "      <th>col1</th>\n",
       "      <th>col2</th>\n",
       "      <th>col3</th>\n",
       "      <th>col4</th>\n",
       "      <th>col5</th>\n",
       "      <th>col6</th>\n",
       "      <th>col7</th>\n",
       "      <th>col8</th>\n",
       "      <th>col9</th>\n",
       "    </tr>\n",
       "  </thead>\n",
       "  <tbody>\n",
       "    <tr>\n",
       "      <th>0</th>\n",
       "      <td>13</td>\n",
       "      <td>9</td>\n",
       "      <td>18</td>\n",
       "      <td>10</td>\n",
       "      <td>5</td>\n",
       "      <td>16</td>\n",
       "      <td>9</td>\n",
       "      <td>18</td>\n",
       "      <td>18</td>\n",
       "      <td>14</td>\n",
       "    </tr>\n",
       "    <tr>\n",
       "      <th>1</th>\n",
       "      <td>8</td>\n",
       "      <td>18</td>\n",
       "      <td>9</td>\n",
       "      <td>12</td>\n",
       "      <td>11</td>\n",
       "      <td>5</td>\n",
       "      <td>17</td>\n",
       "      <td>10</td>\n",
       "      <td>15</td>\n",
       "      <td>9</td>\n",
       "    </tr>\n",
       "    <tr>\n",
       "      <th>2</th>\n",
       "      <td>15</td>\n",
       "      <td>16</td>\n",
       "      <td>17</td>\n",
       "      <td>6</td>\n",
       "      <td>10</td>\n",
       "      <td>15</td>\n",
       "      <td>8</td>\n",
       "      <td>8</td>\n",
       "      <td>6</td>\n",
       "      <td>7</td>\n",
       "    </tr>\n",
       "    <tr>\n",
       "      <th>3</th>\n",
       "      <td>16</td>\n",
       "      <td>6</td>\n",
       "      <td>12</td>\n",
       "      <td>8</td>\n",
       "      <td>7</td>\n",
       "      <td>12</td>\n",
       "      <td>10</td>\n",
       "      <td>17</td>\n",
       "      <td>12</td>\n",
       "      <td>8</td>\n",
       "    </tr>\n",
       "    <tr>\n",
       "      <th>4</th>\n",
       "      <td>16</td>\n",
       "      <td>11</td>\n",
       "      <td>12</td>\n",
       "      <td>15</td>\n",
       "      <td>7</td>\n",
       "      <td>19</td>\n",
       "      <td>16</td>\n",
       "      <td>15</td>\n",
       "      <td>6</td>\n",
       "      <td>7</td>\n",
       "    </tr>\n",
       "  </tbody>\n",
       "</table>\n",
       "</div>"
      ],
      "text/plain": [
       "   col0  col1  col2  col3  col4  col5  col6  col7  col8  col9\n",
       "0    13     9    18    10     5    16     9    18    18    14\n",
       "1     8    18     9    12    11     5    17    10    15     9\n",
       "2    15    16    17     6    10    15     8     8     6     7\n",
       "3    16     6    12     8     7    12    10    17    12     8\n",
       "4    16    11    12    15     7    19    16    15     6     7"
      ]
     },
     "execution_count": 3,
     "metadata": {},
     "output_type": "execute_result"
    }
   ],
   "source": [
    "data.head()"
   ]
  },
  {
   "cell_type": "markdown",
   "metadata": {},
   "source": [
    "### Standardization of the Data\n",
    "\n",
    "$$Z = \\frac{(x_i - \\mu_x)}{\\sigma_x}$$"
   ]
  },
  {
   "cell_type": "code",
   "execution_count": 4,
   "metadata": {},
   "outputs": [],
   "source": [
    "# from sklearn.preprocessing import StandardScaler\n",
    "# stz_data = StandardScaler().fit_transform(data)\n",
    "\n",
    "def standardize_data_features(data, in_numpy=False):\n",
    "    data_copy = data.copy()\n",
    "    \n",
    "    for col in data_copy.columns:\n",
    "        mean_val = np.mean(data_copy[col])\n",
    "        std_dev_val = np.std(data_copy[col])\n",
    "        data_copy[col] = (data_copy[col] - mean_val) / std_dev_val\n",
    "    \n",
    "    if not in_numpy:\n",
    "        return data_copy\n",
    "    return data_copy.to_numpy()"
   ]
  },
  {
   "cell_type": "code",
   "execution_count": 5,
   "metadata": {},
   "outputs": [],
   "source": [
    "stz_data = standardize_data_features(data=data)"
   ]
  },
  {
   "cell_type": "code",
   "execution_count": 6,
   "metadata": {},
   "outputs": [
    {
     "data": {
      "text/html": [
       "<div>\n",
       "<style scoped>\n",
       "    .dataframe tbody tr th:only-of-type {\n",
       "        vertical-align: middle;\n",
       "    }\n",
       "\n",
       "    .dataframe tbody tr th {\n",
       "        vertical-align: top;\n",
       "    }\n",
       "\n",
       "    .dataframe thead th {\n",
       "        text-align: right;\n",
       "    }\n",
       "</style>\n",
       "<table border=\"1\" class=\"dataframe\">\n",
       "  <thead>\n",
       "    <tr style=\"text-align: right;\">\n",
       "      <th></th>\n",
       "      <th>col0</th>\n",
       "      <th>col1</th>\n",
       "      <th>col2</th>\n",
       "      <th>col3</th>\n",
       "      <th>col4</th>\n",
       "      <th>col5</th>\n",
       "      <th>col6</th>\n",
       "      <th>col7</th>\n",
       "      <th>col8</th>\n",
       "      <th>col9</th>\n",
       "    </tr>\n",
       "  </thead>\n",
       "  <tbody>\n",
       "    <tr>\n",
       "      <th>0</th>\n",
       "      <td>0.188390</td>\n",
       "      <td>-0.689761</td>\n",
       "      <td>1.329134</td>\n",
       "      <td>-0.498226</td>\n",
       "      <td>-1.609040</td>\n",
       "      <td>0.915397</td>\n",
       "      <td>-0.666361</td>\n",
       "      <td>1.395555</td>\n",
       "      <td>1.395731</td>\n",
       "      <td>0.471544</td>\n",
       "    </tr>\n",
       "    <tr>\n",
       "      <th>1</th>\n",
       "      <td>-0.983191</td>\n",
       "      <td>1.385055</td>\n",
       "      <td>-0.739021</td>\n",
       "      <td>-0.030408</td>\n",
       "      <td>-0.226703</td>\n",
       "      <td>-1.573324</td>\n",
       "      <td>1.213360</td>\n",
       "      <td>-0.452250</td>\n",
       "      <td>0.689866</td>\n",
       "      <td>-0.689894</td>\n",
       "    </tr>\n",
       "    <tr>\n",
       "      <th>2</th>\n",
       "      <td>0.657023</td>\n",
       "      <td>0.923985</td>\n",
       "      <td>1.099339</td>\n",
       "      <td>-1.433860</td>\n",
       "      <td>-0.457093</td>\n",
       "      <td>0.689149</td>\n",
       "      <td>-0.901327</td>\n",
       "      <td>-0.914201</td>\n",
       "      <td>-1.427730</td>\n",
       "      <td>-1.154469</td>\n",
       "    </tr>\n",
       "    <tr>\n",
       "      <th>3</th>\n",
       "      <td>0.891339</td>\n",
       "      <td>-1.381366</td>\n",
       "      <td>-0.049636</td>\n",
       "      <td>-0.966043</td>\n",
       "      <td>-1.148261</td>\n",
       "      <td>0.010407</td>\n",
       "      <td>-0.431396</td>\n",
       "      <td>1.164579</td>\n",
       "      <td>-0.016000</td>\n",
       "      <td>-0.922182</td>\n",
       "    </tr>\n",
       "    <tr>\n",
       "      <th>4</th>\n",
       "      <td>0.891339</td>\n",
       "      <td>-0.228691</td>\n",
       "      <td>-0.049636</td>\n",
       "      <td>0.671318</td>\n",
       "      <td>-1.148261</td>\n",
       "      <td>1.594139</td>\n",
       "      <td>0.978395</td>\n",
       "      <td>0.702628</td>\n",
       "      <td>-1.427730</td>\n",
       "      <td>-1.154469</td>\n",
       "    </tr>\n",
       "  </tbody>\n",
       "</table>\n",
       "</div>"
      ],
      "text/plain": [
       "       col0      col1      col2      col3      col4      col5      col6  \\\n",
       "0  0.188390 -0.689761  1.329134 -0.498226 -1.609040  0.915397 -0.666361   \n",
       "1 -0.983191  1.385055 -0.739021 -0.030408 -0.226703 -1.573324  1.213360   \n",
       "2  0.657023  0.923985  1.099339 -1.433860 -0.457093  0.689149 -0.901327   \n",
       "3  0.891339 -1.381366 -0.049636 -0.966043 -1.148261  0.010407 -0.431396   \n",
       "4  0.891339 -0.228691 -0.049636  0.671318 -1.148261  1.594139  0.978395   \n",
       "\n",
       "       col7      col8      col9  \n",
       "0  1.395555  1.395731  0.471544  \n",
       "1 -0.452250  0.689866 -0.689894  \n",
       "2 -0.914201 -1.427730 -1.154469  \n",
       "3  1.164579 -0.016000 -0.922182  \n",
       "4  0.702628 -1.427730 -1.154469  "
      ]
     },
     "execution_count": 6,
     "metadata": {},
     "output_type": "execute_result"
    }
   ],
   "source": [
    "stz_data.head()"
   ]
  },
  {
   "cell_type": "markdown",
   "metadata": {},
   "source": [
    "### Co-Variance Matrix Computation\n",
    "\n",
    "$$\\text{Cov(X, Y)} = \\frac{1}{(n - 1)} \\sum_{i=1}^n (x_i - \\bar{x})(y_i - \\bar{y})$$"
   ]
  },
  {
   "cell_type": "code",
   "execution_count": 7,
   "metadata": {},
   "outputs": [],
   "source": [
    "def compute_covariance(X, Y):\n",
    "    mean_x = np.mean(X)\n",
    "    mean_y = np.mean(Y)\n",
    "    \n",
    "    X_ = X - mean_x\n",
    "    Y_ = Y - mean_y\n",
    "    cov_val = np.dot(X_, Y_)/(X.shape[0] - 1)\n",
    "    \n",
    "    return cov_val"
   ]
  },
  {
   "cell_type": "code",
   "execution_count": 8,
   "metadata": {},
   "outputs": [],
   "source": [
    "def compute_covariance_matrix(data):\n",
    "    cm = [\n",
    "        np.array([compute_covariance(X=data[col_i], Y=data[col_j]) for col_j in data.columns]) \n",
    "        for col_i in data.columns\n",
    "    ]\n",
    "    return np.array(cm)"
   ]
  },
  {
   "cell_type": "code",
   "execution_count": 9,
   "metadata": {},
   "outputs": [],
   "source": [
    "cov_mat = compute_covariance_matrix(data=stz_data)"
   ]
  },
  {
   "cell_type": "code",
   "execution_count": 10,
   "metadata": {
    "scrolled": true
   },
   "outputs": [
    {
     "data": {
      "image/png": "[encoded data removed]",
      "text/plain": [
       "<Figure size 576x288 with 2 Axes>"
      ]
     },
     "metadata": {
      "needs_background": "light"
     },
     "output_type": "display_data"
    }
   ],
   "source": [
    "plt.figure(figsize=(8, 4))\n",
    "sns.heatmap(data=cov_mat, annot=True, cmap='Oranges')\n",
    "plt.show()"
   ]
  },
  {
   "cell_type": "code",
   "execution_count": 11,
   "metadata": {},
   "outputs": [
    {
     "data": {
      "text/plain": [
       "(10, 10)"
      ]
     },
     "execution_count": 11,
     "metadata": {},
     "output_type": "execute_result"
    }
   ],
   "source": [
    "cov_mat.shape"
   ]
  },
  {
   "cell_type": "markdown",
   "metadata": {},
   "source": [
    "### Computation of Eigen Values and Eigen Vectors\n",
    "\n",
    "> [Helpful Video](https://www.youtube.com/watch?v=h8sg_XBp6VA&ab_channel=SolveIt)"
   ]
  },
  {
   "cell_type": "code",
   "execution_count": 12,
   "metadata": {},
   "outputs": [],
   "source": [
    "def compute_eigen_vv(data_matrix, shrink_to=2):\n",
    "    best_features = tuple(range(data_matrix.shape[0]))[-shrink_to:]\n",
    "    print(best_features)\n",
    "    evalues, evectors = eigh(a=data_matrix, eigvals=best_features)\n",
    "    evectors = evectors.T\n",
    "    return evalues, evectors"
   ]
  },
  {
   "cell_type": "code",
   "execution_count": 13,
   "metadata": {},
   "outputs": [
    {
     "name": "stdout",
     "output_type": "stream",
     "text": [
      "(8, 9)\n"
     ]
    },
    {
     "data": {
      "text/plain": [
       "(array([1.20059486, 1.21870774]),\n",
       " array([[ 0.25953548, -0.38751536,  0.13320697,  0.28531024,  0.03169712,\n",
       "          0.23324894, -0.41085902, -0.19011163, -0.5185349 ,  0.39254473],\n",
       "        [-0.14728072,  0.09177732, -0.34392075, -0.43014737, -0.59970138,\n",
       "          0.34405886,  0.10667891, -0.3415664 , -0.19528698,  0.14957878]]))"
      ]
     },
     "execution_count": 13,
     "metadata": {},
     "output_type": "execute_result"
    }
   ],
   "source": [
    "compute_eigen_vv(data_matrix=cov_mat)"
   ]
  },
  {
   "cell_type": "markdown",
   "metadata": {},
   "source": [
    "### Recasting the Data to Reduced Dimensions"
   ]
  },
  {
   "cell_type": "code",
   "execution_count": 14,
   "metadata": {},
   "outputs": [
    {
     "name": "stdout",
     "output_type": "stream",
     "text": [
      "(8, 9)\n"
     ]
    }
   ],
   "source": [
    "_, vecs = compute_eigen_vv(data_matrix=cov_mat)\n",
    "stz_data = stz_data.to_numpy()"
   ]
  },
  {
   "cell_type": "code",
   "execution_count": 15,
   "metadata": {},
   "outputs": [
    {
     "data": {
      "text/plain": [
       "(2, 10)"
      ]
     },
     "execution_count": 15,
     "metadata": {},
     "output_type": "execute_result"
    }
   ],
   "source": [
    "vecs.shape"
   ]
  },
  {
   "cell_type": "code",
   "execution_count": 16,
   "metadata": {},
   "outputs": [
    {
     "data": {
      "text/plain": [
       "(500, 10)"
      ]
     },
     "execution_count": 16,
     "metadata": {},
     "output_type": "execute_result"
    }
   ],
   "source": [
    "stz_data.shape"
   ]
  },
  {
   "cell_type": "code",
   "execution_count": 17,
   "metadata": {},
   "outputs": [],
   "source": [
    "reduced_data = np.dot(vecs, stz_data.T)"
   ]
  },
  {
   "cell_type": "code",
   "execution_count": 18,
   "metadata": {},
   "outputs": [
    {
     "data": {
      "text/plain": [
       "(2, 500)"
      ]
     },
     "execution_count": 18,
     "metadata": {},
     "output_type": "execute_result"
    }
   ],
   "source": [
    "reduced_data.shape"
   ]
  },
  {
   "cell_type": "code",
   "execution_count": 19,
   "metadata": {},
   "outputs": [],
   "source": [
    "reduced_data = reduced_data.T"
   ]
  },
  {
   "cell_type": "markdown",
   "metadata": {},
   "source": [
    "### Final Reduced DataFrame"
   ]
  },
  {
   "cell_type": "code",
   "execution_count": 20,
   "metadata": {},
   "outputs": [],
   "source": [
    "rdf = pd.DataFrame(data=reduced_data, columns=['f1', 'f2'])"
   ]
  },
  {
   "cell_type": "code",
   "execution_count": 21,
   "metadata": {},
   "outputs": [
    {
     "data": {
      "text/html": [
       "<div>\n",
       "<style scoped>\n",
       "    .dataframe tbody tr th:only-of-type {\n",
       "        vertical-align: middle;\n",
       "    }\n",
       "\n",
       "    .dataframe tbody tr th {\n",
       "        vertical-align: top;\n",
       "    }\n",
       "\n",
       "    .dataframe thead th {\n",
       "        text-align: right;\n",
       "    }\n",
       "</style>\n",
       "<table border=\"1\" class=\"dataframe\">\n",
       "  <thead>\n",
       "    <tr style=\"text-align: right;\">\n",
       "      <th></th>\n",
       "      <th>f1</th>\n",
       "      <th>f2</th>\n",
       "    </tr>\n",
       "  </thead>\n",
       "  <tbody>\n",
       "    <tr>\n",
       "      <th>0</th>\n",
       "      <td>-0.016562</td>\n",
       "      <td>0.196240</td>\n",
       "    </tr>\n",
       "    <tr>\n",
       "      <th>1</th>\n",
       "      <td>-2.314259</td>\n",
       "      <td>0.179802</td>\n",
       "    </tr>\n",
       "    <tr>\n",
       "      <th>2</th>\n",
       "      <td>0.527327</td>\n",
       "      <td>1.060188</td>\n",
       "    </tr>\n",
       "    <tr>\n",
       "      <th>3</th>\n",
       "      <td>0.052574</td>\n",
       "      <td>0.288135</td>\n",
       "    </tr>\n",
       "    <tr>\n",
       "      <th>4</th>\n",
       "      <td>0.591899</td>\n",
       "      <td>0.783644</td>\n",
       "    </tr>\n",
       "  </tbody>\n",
       "</table>\n",
       "</div>"
      ],
      "text/plain": [
       "         f1        f2\n",
       "0 -0.016562  0.196240\n",
       "1 -2.314259  0.179802\n",
       "2  0.527327  1.060188\n",
       "3  0.052574  0.288135\n",
       "4  0.591899  0.783644"
      ]
     },
     "execution_count": 21,
     "metadata": {},
     "output_type": "execute_result"
    }
   ],
   "source": [
    "rdf.head()"
   ]
  },
  {
   "cell_type": "markdown",
   "metadata": {},
   "source": [
    "### End"
   ]
  }
 ],
 "metadata": {
  "kernelspec": {
   "display_name": "Python 3",
   "language": "python",
   "name": "python3"
  },
  "language_info": {
   "codemirror_mode": {
    "name": "ipython",
    "version": 3
   },
   "file_extension": ".py",
   "mimetype": "text/x-python",
   "name": "python",
   "nbconvert_exporter": "python",
   "pygments_lexer": "ipython3",
   "version": "3.8.4"
  }
 },
 "nbformat": 4,
 "nbformat_minor": 4
}
