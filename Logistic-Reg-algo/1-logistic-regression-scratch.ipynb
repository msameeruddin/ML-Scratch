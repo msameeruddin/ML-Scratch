{
 "cells": [
  {
   "cell_type": "markdown",
   "metadata": {},
   "source": [
    "### `import` Packages"
   ]
  },
  {
   "cell_type": "code",
   "execution_count": 1,
   "metadata": {},
   "outputs": [],
   "source": [
    "import warnings\n",
    "warnings.filterwarnings('ignore')\n",
    "\n",
    "import numpy as np\n",
    "import pandas as pd\n",
    "import plotly.graph_objects as go\n",
    "\n",
    "from tqdm import tqdm\n",
    "from matplotlib import pyplot as plt\n",
    "from sklearn.datasets import make_blobs\n",
    "from sklearn.datasets import make_classification"
   ]
  },
  {
   "cell_type": "markdown",
   "metadata": {},
   "source": [
    "### Data Preparation"
   ]
  },
  {
   "cell_type": "code",
   "execution_count": 2,
   "metadata": {},
   "outputs": [],
   "source": [
    "# X, y = make_blobs(\n",
    "#     n_samples=500, \n",
    "#     n_features=2, \n",
    "#     centers=2, \n",
    "#     random_state=60\n",
    "# )\n",
    "\n",
    "X, y = make_classification(\n",
    "    n_samples=500, \n",
    "    n_features=2, \n",
    "    n_informative=2,\n",
    "    n_redundant=0,\n",
    "    n_clusters_per_class=1,\n",
    "    n_classes=2,\n",
    "    random_state=60\n",
    ")"
   ]
  },
  {
   "cell_type": "code",
   "execution_count": 3,
   "metadata": {},
   "outputs": [],
   "source": [
    "def standardize_data_features(data, in_numpy=False):\n",
    "    data_copy = data.copy()\n",
    "    \n",
    "    for col in data_copy.columns:\n",
    "        mean_val = np.mean(data_copy[col])\n",
    "        std_dev_val = np.std(data_copy[col])\n",
    "        data_copy[col] = [(dval - mean_val)/std_dev_val for dval in data_copy[col]]\n",
    "    \n",
    "    if not in_numpy:\n",
    "        return data_copy\n",
    "    return data_copy.to_numpy()"
   ]
  },
  {
   "cell_type": "code",
   "execution_count": 4,
   "metadata": {},
   "outputs": [],
   "source": [
    "d = {'col{}'.format(i + 1) : X[:,i] for i in range(len(X[0]))}\n",
    "df = pd.DataFrame(d)\n",
    "df = standardize_data_features(data=df)\n",
    "df['label'] = y"
   ]
  },
  {
   "cell_type": "code",
   "execution_count": 5,
   "metadata": {},
   "outputs": [
    {
     "data": {
      "text/html": [
       "<div>\n",
       "<style scoped>\n",
       "    .dataframe tbody tr th:only-of-type {\n",
       "        vertical-align: middle;\n",
       "    }\n",
       "\n",
       "    .dataframe tbody tr th {\n",
       "        vertical-align: top;\n",
       "    }\n",
       "\n",
       "    .dataframe thead th {\n",
       "        text-align: right;\n",
       "    }\n",
       "</style>\n",
       "<table border=\"1\" class=\"dataframe\">\n",
       "  <thead>\n",
       "    <tr style=\"text-align: right;\">\n",
       "      <th></th>\n",
       "      <th>col1</th>\n",
       "      <th>col2</th>\n",
       "      <th>label</th>\n",
       "    </tr>\n",
       "  </thead>\n",
       "  <tbody>\n",
       "    <tr>\n",
       "      <th>0</th>\n",
       "      <td>-1.190067</td>\n",
       "      <td>1.918338</td>\n",
       "      <td>0</td>\n",
       "    </tr>\n",
       "    <tr>\n",
       "      <th>1</th>\n",
       "      <td>-0.894067</td>\n",
       "      <td>0.339529</td>\n",
       "      <td>1</td>\n",
       "    </tr>\n",
       "    <tr>\n",
       "      <th>2</th>\n",
       "      <td>-0.196368</td>\n",
       "      <td>-1.134401</td>\n",
       "      <td>1</td>\n",
       "    </tr>\n",
       "    <tr>\n",
       "      <th>3</th>\n",
       "      <td>-1.079944</td>\n",
       "      <td>0.911645</td>\n",
       "      <td>1</td>\n",
       "    </tr>\n",
       "    <tr>\n",
       "      <th>4</th>\n",
       "      <td>0.136143</td>\n",
       "      <td>0.844458</td>\n",
       "      <td>0</td>\n",
       "    </tr>\n",
       "  </tbody>\n",
       "</table>\n",
       "</div>"
      ],
      "text/plain": [
       "       col1      col2  label\n",
       "0 -1.190067  1.918338      0\n",
       "1 -0.894067  0.339529      1\n",
       "2 -0.196368 -1.134401      1\n",
       "3 -1.079944  0.911645      1\n",
       "4  0.136143  0.844458      0"
      ]
     },
     "execution_count": 5,
     "metadata": {},
     "output_type": "execute_result"
    }
   ],
   "source": [
    "df.head()"
   ]
  },
  {
   "cell_type": "markdown",
   "metadata": {},
   "source": [
    "### Train Test Split"
   ]
  },
  {
   "cell_type": "code",
   "execution_count": 6,
   "metadata": {},
   "outputs": [],
   "source": [
    "def splitter(dframe, percentage=0.8, random_state=True):\n",
    "    \"\"\"\n",
    "    :param DataFrame dframe: Pandas DataFrame\n",
    "    :param float percentage: Percentage value to split the data\n",
    "    :param boolean random_state: True/False\n",
    "    :return: train_df, test_df\n",
    "    \"\"\"\n",
    "    if random_state:\n",
    "        dframe = dframe.sample(frac=1)\n",
    "\n",
    "    thresh = round(len(dframe) * percentage)\n",
    "    train_df = dframe.iloc[:thresh]\n",
    "    test_df = dframe.iloc[thresh:]\n",
    "\n",
    "    return train_df, test_df"
   ]
  },
  {
   "cell_type": "code",
   "execution_count": 7,
   "metadata": {},
   "outputs": [],
   "source": [
    "train_df, test_df = splitter(dframe=df)"
   ]
  },
  {
   "cell_type": "markdown",
   "metadata": {},
   "source": [
    "### Custom Logistic Regression"
   ]
  },
  {
   "cell_type": "code",
   "execution_count": 8,
   "metadata": {},
   "outputs": [],
   "source": [
    "class LogisticRegression():\n",
    "    def __init__(self, train_df, test_df, label, lambda_=0.0001, n_iters=1000):\n",
    "        self.lambda_ = lambda_\n",
    "        self.n_iters = n_iters\n",
    "        \n",
    "        self.X_train, self.y_train = self.split_features_targets(df=train_df, label=label)\n",
    "        self.X_test, self.y_test = self.split_features_targets(df=test_df, label=label)\n",
    "        self.X_train = self.X_train.values\n",
    "        self.y_train = self.y_train.values\n",
    "        self.X_test = self.X_test.values\n",
    "        self.y_test = self.y_test.values\n",
    "        self.n_ = len(self.X_train)\n",
    "        \n",
    "        self.w, self.b = self.find_best_params()\n",
    "    \n",
    "    def split_features_targets(self, df, label):\n",
    "        X = df.drop(columns=[label], axis=1)\n",
    "        y = df[label]\n",
    "        return X, y\n",
    "    \n",
    "    def sigmoid(self, z):\n",
    "        return 1 / (1 + np.exp(-z))\n",
    "    \n",
    "    def diff_params_wb(self, w, b):\n",
    "        lm = np.dot(self.X_train, w) + b\n",
    "        z = self.sigmoid(z=lm)\n",
    "        w_ = (1 / self.n_) * np.dot((z - self.y_train), self.X_train)\n",
    "        b_ = (1 / self.n_) * np.sum((z - self.y_train))\n",
    "        return w_, b_\n",
    "    \n",
    "    def find_best_params(self):\n",
    "        ow = np.zeros_like(a=self.X_train[0])\n",
    "        ob = 0\n",
    "        \n",
    "        for i in range(self.n_iters):\n",
    "            w_, b_ = self.diff_params_wb(w=ow, b=ob)\n",
    "            ow = ow - (self.lambda_ * w_)\n",
    "            ob = ob - (self.lambda_ * b_)\n",
    "        \n",
    "        return ow, ob\n",
    "    \n",
    "    def draw_line(self, ax):\n",
    "        if (len(self.w) == 2):\n",
    "            a, b = self.w\n",
    "            c = self.b\n",
    "\n",
    "            y_min = np.min(self.X_train)\n",
    "            y_max = np.max(self.X_train)\n",
    "\n",
    "            p1 = [((-b*y_min - c)/a), y_min]\n",
    "            p2 = [((-b*y_max - c)/a), y_max]\n",
    "\n",
    "            points = np.array([p1, p2])\n",
    "            ax.plot(points[:, 0], points[:, 1], color='#BA4A00')\n",
    "        return None\n",
    "    \n",
    "    def predict(self, with_plot=False):        \n",
    "        y_test_preds = self.sigmoid(z=(np.dot(self.X_test, self.w) + self.b))\n",
    "        y_test_preds_c = np.where((y_test_preds >= 0.5), 1, 0)\n",
    "        y_train_preds = self.sigmoid(z=(np.dot(self.X_train, self.w) + self.b))\n",
    "        y_train_preds_c = np.where((y_train_preds >= 0.5), 1, 0)\n",
    "        \n",
    "        if with_plot:\n",
    "            fig = plt.figure(figsize=(10, 4))\n",
    "\n",
    "            ax1 = fig.add_subplot(1, 2, 1)\n",
    "            ax1.title.set_text('Training')\n",
    "            ax1.scatter(self.X_train[:, 0], self.X_train[:, 1], c=y_train_preds_c, label='points')\n",
    "            self.draw_line(ax=ax1)\n",
    "            ax1.legend()\n",
    "            \n",
    "            ax2 = fig.add_subplot(1, 2, 2)\n",
    "            ax2.title.set_text(\"Testing\")\n",
    "            ax2.scatter(self.X_test[:, 0], self.X_test[:, 1], c=y_test_preds_c, label='points')\n",
    "            self.draw_line(ax=ax2)\n",
    "            ax2.legend()\n",
    "            \n",
    "            plt.show()\n",
    "        return y_test_preds_c\n",
    "    \n",
    "    def score(self, preds):\n",
    "        preds = np.array(preds)\n",
    "        if (len(self.y_test) == len(preds)):\n",
    "            non_z = np.count_nonzero(a=np.where((preds == self.y_test), 1, 0))\n",
    "            return non_z / len(preds)\n",
    "        return \"Lengths do not match\""
   ]
  },
  {
   "cell_type": "markdown",
   "metadata": {},
   "source": [
    "### Testing"
   ]
  },
  {
   "cell_type": "code",
   "execution_count": 9,
   "metadata": {},
   "outputs": [],
   "source": [
    "lr = LogisticRegression(\n",
    "    train_df=train_df, \n",
    "    test_df=test_df, \n",
    "    label='label', \n",
    "    lambda_=0.001, \n",
    "    n_iters=100\n",
    ")"
   ]
  },
  {
   "cell_type": "code",
   "execution_count": 14,
   "metadata": {},
   "outputs": [
    {
     "name": "stdout",
     "output_type": "stream",
     "text": [
      "[-3.77376685e-02 -5.56964363e-06]\n"
     ]
    }
   ],
   "source": [
    "print(lr.w)"
   ]
  },
  {
   "cell_type": "code",
   "execution_count": 11,
   "metadata": {},
   "outputs": [
    {
     "data": {
      "text/plain": [
       "0.0017126093242175264"
      ]
     },
     "execution_count": 11,
     "metadata": {},
     "output_type": "execute_result"
    }
   ],
   "source": [
    "lr.b"
   ]
  },
  {
   "cell_type": "code",
   "execution_count": 12,
   "metadata": {},
   "outputs": [
    {
     "data": {
      "image/png": "[encoded data removed]",
      "text/plain": [
       "<Figure size 720x288 with 2 Axes>"
      ]
     },
     "metadata": {
      "needs_background": "light"
     },
     "output_type": "display_data"
    }
   ],
   "source": [
    "preds = lr.predict(with_plot=True)"
   ]
  },
  {
   "cell_type": "code",
   "execution_count": 13,
   "metadata": {},
   "outputs": [
    {
     "data": {
      "text/plain": [
       "0.84"
      ]
     },
     "execution_count": 13,
     "metadata": {},
     "output_type": "execute_result"
    }
   ],
   "source": [
    "lr.score(preds=preds)"
   ]
  },
  {
   "cell_type": "markdown",
   "metadata": {},
   "source": [
    "### End"
   ]
  }
 ],
 "metadata": {
  "kernelspec": {
   "display_name": "Python 3",
   "language": "python",
   "name": "python3"
  },
  "language_info": {
   "codemirror_mode": {
    "name": "ipython",
    "version": 3
   },
   "file_extension": ".py",
   "mimetype": "text/x-python",
   "name": "python",
   "nbconvert_exporter": "python",
   "pygments_lexer": "ipython3",
   "version": "3.8.4"
  }
 },
 "nbformat": 4,
 "nbformat_minor": 4
}
