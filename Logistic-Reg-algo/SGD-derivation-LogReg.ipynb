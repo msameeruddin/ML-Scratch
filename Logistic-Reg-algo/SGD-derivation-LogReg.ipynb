{
 "cells": [
  {
   "cell_type": "markdown",
   "metadata": {},
   "source": [
    "**Note**\n",
    "\n",
    "* $[1 - \\sigma(z)] = \\sigma(-z)$\n",
    "* $\\sigma(z) = \\frac{1}{1 + \\exp(-z)}$\n",
    "* $\\partial \\sigma(z) = \\sigma(z) [1 - \\sigma(z)]$\n",
    "\n",
    "<br>\n",
    "\n",
    "$\\text{Optimization Problem} \\ \\rightarrow \\ \\text{Cross Entropy}$\n",
    "\n",
    "$$L = \\frac{1}{n} \\sum_{i=1}^n \\bigg[-y_i \\log\\big[\\sigma(w^Tx_i + b)\\big] - (1 - y_i) \\log\\big[1 - \\sigma(w^Tx_i + b)\\big]\\bigg]$$\n",
    "\n",
    "$\\text{From Note, we get}$\n",
    "\n",
    "$$L = \\frac{1}{n} \\sum_{i=1}^n \\bigg[-y_i \\log\\big[\\sigma(w^Tx_i + b)\\big] - (1 - y_i) \\log\\big[\\sigma\\big(-(w^Tx_i + b)\\big)\\big]\\bigg] \\rightarrow (1)$$\n",
    "\n",
    "$\\text{Finding} \\ w^* \\rightarrow \\ \\text{Partial derivative of (1) w.r.t} \\ w$\n",
    "\n",
    "$$dw = \\frac{\\partial L}{\\partial w}$$\n",
    "\n",
    "$$dw = \\frac{1}{n} \\sum_{i=1}^n \\bigg[ - \\frac{y_i \\sigma(w^Tx_i + b) [1 - \\sigma(w^Tx_i + b)] x_i}{\\sigma(w^Tx_i + b)} - \\frac{(1 - y_i)\\sigma\\big(-(w^Tx_i + b)\\big)\\big[1 - \\sigma\\big(-(w^Tx_i + b)\\big)\\big](-x_i)}{\\sigma\\big(-(w^Tx_i + b)\\big)}\\bigg]$$\n",
    "\n",
    "$$dw = \\frac{1}{n} \\sum_{i=1}^n \\bigg[-x_iy_i [1 - \\sigma(w^Tx_i + b)] + x_i(1 - y_i)\\big[1 - \\sigma\\big(-(w^Tx_i + b)\\big)\\big]\\bigg]$$\n",
    "\n",
    "$$dw = \\frac{1}{n} \\sum_{i=1}^n \\bigg[-x_iy_i [1 - \\sigma(w^Tx_i + b)] + x_i(1 - y_i)\\sigma(w^Tx_i + b)\\bigg]$$\n",
    "\n",
    "$$dw = \\frac{1}{n} \\sum_{i=1}^n \\big[-x_iy_i + x_iy_i\\sigma(w^Tx_i + b) + x_i\\sigma(w^Tx_i + b) - x_iy_i\\sigma(w^Tx_i + b)\\big]$$\n",
    "\n",
    "$$dw = \\frac{1}{n} \\sum_{i=1}^n \\big[-x_iy_i + x_i\\sigma(w^Tx_i + b)\\big]$$\n",
    "\n",
    "$$dw = \\frac{-1}{n} \\sum_{i=1}^n x_i\\big[y_i - \\sigma(w^Tx_i + b)\\big]$$\n",
    "\n",
    "$$dw = \\frac{1}{n} \\sum_{i=1}^n x_i \\big[\\sigma(w^Tx_i + b) - y_i\\big]$$\n",
    "\n",
    "$\\text{Finding} \\ b^* \\rightarrow \\ \\text{Partial derivative of (1) w.r.t} \\ b$\n",
    "\n",
    "$$db = \\frac{\\partial L}{\\partial b}$$\n",
    "\n",
    "$$db = \\frac{1}{n} \\sum_{i=1}^n \\bigg[ - \\frac{y_i \\sigma(w^Tx_i + b) [1 - \\sigma(w^Tx_i + b)] (1)}{\\sigma(w^Tx_i + b)} - \\frac{(1 - y_i)\\sigma\\big(-(w^Tx_i + b)\\big)\\big[1 - \\sigma\\big(-(w^Tx_i + b)\\big)\\big](-1)}{\\sigma\\big(-(w^Tx_i + b)\\big)}\\bigg]$$\n",
    "\n",
    "$$db = \\frac{1}{n} \\sum_{i=1}^n \\bigg[-y_i [1 - \\sigma(w^Tx_i + b)] + (1 - y_i)\\big[1 - \\sigma\\big(-(w^Tx_i + b)\\big)\\big]\\bigg]$$\n",
    "\n",
    "$$db = \\frac{1}{n} \\sum_{i=1}^n \\bigg[-y_i [1 - \\sigma(w^Tx_i + b)] + (1 - y_i)\\sigma(w^Tx_i + b)\\bigg]$$\n",
    "\n",
    "$$db = \\frac{1}{n} \\sum_{i=1}^n \\bigg[-y_i + y_i \\sigma(w^Tx_i + b) + \\sigma(w^Tx_i + b) - y_i \\sigma(w^Tx_i + b)\\bigg]$$\n",
    "\n",
    "$$db = \\frac{-1}{n} \\sum_{i=1}^n \\big[y_i - \\sigma(w^Tx_i + b)\\big]$$\n",
    "\n",
    "$$db = \\frac{1}{n} \\sum_{i=1}^n \\big[\\sigma(w^Tx_i + b) - y_i\\big]$$\n",
    "\n",
    "$\\text{Updating the values for every iteration with some} \\ \\alpha$\n",
    "\n",
    "$$w = w - \\alpha * dw$$\n",
    "\n",
    "$$b = b - \\alpha * db$$"
   ]
  }
 ],
 "metadata": {
  "kernelspec": {
   "display_name": "Python 3",
   "language": "python",
   "name": "python3"
  },
  "language_info": {
   "codemirror_mode": {
    "name": "ipython",
    "version": 3
   },
   "file_extension": ".py",
   "mimetype": "text/x-python",
   "name": "python",
   "nbconvert_exporter": "python",
   "pygments_lexer": "ipython3",
   "version": "3.8.4"
  }
 },
 "nbformat": 4,
 "nbformat_minor": 4
}
