{
 "cells": [
  {
   "cell_type": "markdown",
   "metadata": {},
   "source": [
    "$\\text{Optimization Problem}$\n",
    "\n",
    "$$E = \\frac{1}{n} \\sum_{i=1}^n \\big[y_i - \\big(w^Tx_i + b\\big)\\big]^2 \\rightarrow (1)$$\n",
    "\n",
    "$$\\text{w.k.t} \\ \\hat{y_i} = \\big(w^Tx_i + b\\big) \\rightarrow (2)$$\n",
    "\n",
    "$\\text{Finding} \\ w^* \\rightarrow \\ \\text{Partial derivative of (1) w.r.t} \\ w$\n",
    "\n",
    "$$dw = \\frac{\\partial E}{\\partial w}$$\n",
    "\n",
    "$$dw = \\frac{1}{n} \\sum_{i=1}^n 2 \\big[y_i - \\big(w^Tx_i + b\\big)\\big] \\big(-x_i\\big)$$\n",
    "\n",
    "$$dw = \\frac{1}{n} \\sum_{i=1}^n -2x_i \\big[y_i - \\big(w^Tx_i + b\\big)\\big]$$\n",
    "\n",
    "$$dw = \\frac{2}{n} \\sum_{i=1}^n x_i \\big[\\big(w^Tx_i + b\\big) - y_i\\big]$$\n",
    "\n",
    "$$dw = \\frac{2}{n} \\sum_{i=1}^n x_i \\big(\\hat{y_i} - y_i\\big) \\rightarrow (\\text{i})$$\n",
    "\n",
    "$\\text{Finding} \\ b^* \\rightarrow \\ \\text{Partial derivative of (1) w.r.t} \\ b$\n",
    "\n",
    "$$db = \\frac{\\partial E}{\\partial b}$$\n",
    "\n",
    "$$db = \\frac{1}{n} \\sum_{i=1}^n 2 \\big[y_i - \\big(w^Tx_i + b\\big)\\big] \\big(-1\\big)$$\n",
    "\n",
    "$$db = \\frac{1}{n} \\sum_{i=1}^n -2 \\big[y_i - \\big(w^Tx_i + b\\big)\\big]$$\n",
    "\n",
    "$$db = \\frac{2}{n} \\sum_{i=1}^n \\big[\\big(w^Tx_i + b\\big) - y_i\\big]$$\n",
    "\n",
    "$$db = \\frac{2}{n} \\sum_{i=1}^n \\big(\\hat{y_i} - y_i\\big) \\rightarrow (\\text{ii})$$\n",
    "\n",
    "$\\text{Updating the values for every iteration with some} \\ \\alpha$\n",
    "\n",
    "$$w = w - \\alpha * dw$$\n",
    "\n",
    "$$b = b - \\alpha * db$$"
   ]
  }
 ],
 "metadata": {
  "kernelspec": {
   "display_name": "Python 3",
   "language": "python",
   "name": "python3"
  },
  "language_info": {
   "codemirror_mode": {
    "name": "ipython",
    "version": 3
   },
   "file_extension": ".py",
   "mimetype": "text/x-python",
   "name": "python",
   "nbconvert_exporter": "python",
   "pygments_lexer": "ipython3",
   "version": "3.8.4"
  }
 },
 "nbformat": 4,
 "nbformat_minor": 4
}
