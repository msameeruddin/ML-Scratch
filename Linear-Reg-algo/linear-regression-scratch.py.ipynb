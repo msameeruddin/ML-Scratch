{
 "cells": [
  {
   "cell_type": "markdown",
   "metadata": {},
   "source": [
    "### `import` Packages"
   ]
  },
  {
   "cell_type": "code",
   "execution_count": 1,
   "metadata": {},
   "outputs": [],
   "source": [
    "import warnings\n",
    "warnings.filterwarnings('ignore')\n",
    "\n",
    "import os\n",
    "import pandas as pd\n",
    "import numpy as np\n",
    "import imageio\n",
    "\n",
    "from matplotlib import pyplot as plt\n",
    "from sklearn.datasets import make_regression"
   ]
  },
  {
   "cell_type": "markdown",
   "metadata": {},
   "source": [
    "### Data Preparation"
   ]
  },
  {
   "cell_type": "code",
   "execution_count": 2,
   "metadata": {},
   "outputs": [],
   "source": [
    "X, y = make_regression(n_samples=200, n_features=1, noise=5, random_state=15)\n",
    "df = pd.DataFrame(dict(col1=X[:, 0], col2=y))"
   ]
  },
  {
   "cell_type": "code",
   "execution_count": 3,
   "metadata": {},
   "outputs": [
    {
     "data": {
      "text/plain": [
       "(200, 2)"
      ]
     },
     "execution_count": 3,
     "metadata": {},
     "output_type": "execute_result"
    }
   ],
   "source": [
    "df.shape"
   ]
  },
  {
   "cell_type": "markdown",
   "metadata": {},
   "source": [
    "### Train Test Split"
   ]
  },
  {
   "cell_type": "code",
   "execution_count": 4,
   "metadata": {},
   "outputs": [],
   "source": [
    "def splitter(dframe, percentage=0.8, random_state=True):\n",
    "    \"\"\"\n",
    "    :param DataFrame dframe: Pandas DataFrame\n",
    "    :param float percentage: Percentage value to split the data\n",
    "    :param boolean random_state: True/False\n",
    "    :return: train_df, test_df\n",
    "    \"\"\"\n",
    "    if random_state:\n",
    "        dframe = dframe.sample(frac=1)\n",
    "\n",
    "    thresh = round(len(dframe) * percentage)\n",
    "    train_df = dframe.iloc[:thresh]\n",
    "    test_df = dframe.iloc[thresh:]\n",
    "\n",
    "    return train_df, test_df"
   ]
  },
  {
   "cell_type": "code",
   "execution_count": 5,
   "metadata": {},
   "outputs": [],
   "source": [
    "train_df, test_df = splitter(dframe=df)"
   ]
  },
  {
   "cell_type": "code",
   "execution_count": 6,
   "metadata": {},
   "outputs": [
    {
     "data": {
      "text/html": [
       "<div>\n",
       "<style scoped>\n",
       "    .dataframe tbody tr th:only-of-type {\n",
       "        vertical-align: middle;\n",
       "    }\n",
       "\n",
       "    .dataframe tbody tr th {\n",
       "        vertical-align: top;\n",
       "    }\n",
       "\n",
       "    .dataframe thead th {\n",
       "        text-align: right;\n",
       "    }\n",
       "</style>\n",
       "<table border=\"1\" class=\"dataframe\">\n",
       "  <thead>\n",
       "    <tr style=\"text-align: right;\">\n",
       "      <th></th>\n",
       "      <th>col1</th>\n",
       "      <th>col2</th>\n",
       "    </tr>\n",
       "  </thead>\n",
       "  <tbody>\n",
       "    <tr>\n",
       "      <th>133</th>\n",
       "      <td>1.392231</td>\n",
       "      <td>9.552120</td>\n",
       "    </tr>\n",
       "    <tr>\n",
       "      <th>31</th>\n",
       "      <td>0.587376</td>\n",
       "      <td>1.645743</td>\n",
       "    </tr>\n",
       "    <tr>\n",
       "      <th>25</th>\n",
       "      <td>-0.782609</td>\n",
       "      <td>0.212952</td>\n",
       "    </tr>\n",
       "    <tr>\n",
       "      <th>170</th>\n",
       "      <td>0.192243</td>\n",
       "      <td>5.012631</td>\n",
       "    </tr>\n",
       "    <tr>\n",
       "      <th>197</th>\n",
       "      <td>-0.554025</td>\n",
       "      <td>-10.250867</td>\n",
       "    </tr>\n",
       "  </tbody>\n",
       "</table>\n",
       "</div>"
      ],
      "text/plain": [
       "         col1       col2\n",
       "133  1.392231   9.552120\n",
       "31   0.587376   1.645743\n",
       "25  -0.782609   0.212952\n",
       "170  0.192243   5.012631\n",
       "197 -0.554025 -10.250867"
      ]
     },
     "execution_count": 6,
     "metadata": {},
     "output_type": "execute_result"
    }
   ],
   "source": [
    "train_df.head()"
   ]
  },
  {
   "cell_type": "code",
   "execution_count": 7,
   "metadata": {},
   "outputs": [
    {
     "data": {
      "text/html": [
       "<div>\n",
       "<style scoped>\n",
       "    .dataframe tbody tr th:only-of-type {\n",
       "        vertical-align: middle;\n",
       "    }\n",
       "\n",
       "    .dataframe tbody tr th {\n",
       "        vertical-align: top;\n",
       "    }\n",
       "\n",
       "    .dataframe thead th {\n",
       "        text-align: right;\n",
       "    }\n",
       "</style>\n",
       "<table border=\"1\" class=\"dataframe\">\n",
       "  <thead>\n",
       "    <tr style=\"text-align: right;\">\n",
       "      <th></th>\n",
       "      <th>col1</th>\n",
       "      <th>col2</th>\n",
       "    </tr>\n",
       "  </thead>\n",
       "  <tbody>\n",
       "    <tr>\n",
       "      <th>29</th>\n",
       "      <td>-0.155909</td>\n",
       "      <td>-10.316879</td>\n",
       "    </tr>\n",
       "    <tr>\n",
       "      <th>36</th>\n",
       "      <td>1.289932</td>\n",
       "      <td>3.409999</td>\n",
       "    </tr>\n",
       "    <tr>\n",
       "      <th>194</th>\n",
       "      <td>-0.404502</td>\n",
       "      <td>-8.107950</td>\n",
       "    </tr>\n",
       "    <tr>\n",
       "      <th>81</th>\n",
       "      <td>-0.913569</td>\n",
       "      <td>-0.942559</td>\n",
       "    </tr>\n",
       "    <tr>\n",
       "      <th>158</th>\n",
       "      <td>0.235569</td>\n",
       "      <td>-4.045533</td>\n",
       "    </tr>\n",
       "  </tbody>\n",
       "</table>\n",
       "</div>"
      ],
      "text/plain": [
       "         col1       col2\n",
       "29  -0.155909 -10.316879\n",
       "36   1.289932   3.409999\n",
       "194 -0.404502  -8.107950\n",
       "81  -0.913569  -0.942559\n",
       "158  0.235569  -4.045533"
      ]
     },
     "execution_count": 7,
     "metadata": {},
     "output_type": "execute_result"
    }
   ],
   "source": [
    "test_df.head()"
   ]
  },
  {
   "cell_type": "markdown",
   "metadata": {},
   "source": [
    "### Custom Linear Regression"
   ]
  },
  {
   "cell_type": "code",
   "execution_count": 8,
   "metadata": {},
   "outputs": [],
   "source": [
    "class LinearRegression():\n",
    "    def __init__(self, train_df, test_df, label, lambda_=0.001, n_iters=1000):\n",
    "        self.n_iters = n_iters\n",
    "        self.lambda_ = lambda_\n",
    "        \n",
    "        self.X_train, self.y_train = self.split_features_targets(df=train_df, label=label)\n",
    "        self.X_test, self.y_test = self.split_features_targets(df=test_df, label=label)\n",
    "        self.X_train = self.X_train.values\n",
    "        self.y_train = self.y_train.values\n",
    "        self.X_test = self.X_test.values\n",
    "        self.y_test = self.y_test.values\n",
    "        \n",
    "        self.n_train = len(self.X_train)\n",
    "        self.n_test = len(self.X_test)\n",
    "        self.wb_params = {'w' : [], 'b' : []}\n",
    "        self.w, self.b = self.find_best_params()\n",
    "        \n",
    "    def split_features_targets(self, df, label):\n",
    "        X = df.drop(columns=[label], axis=1)\n",
    "        y = df[label]\n",
    "        return X, y\n",
    "    \n",
    "    def diff_params_wb(self, w, b):\n",
    "        lm = np.dot(self.X_train, w) + b\n",
    "        w_ = (2 / self.n_train) * np.dot(self.X_train.T, (lm - self.y_train))\n",
    "        b_ = (2 / self.n_train) * np.sum((lm - self.y_train))\n",
    "        return w_, b_\n",
    "    \n",
    "    def find_best_params(self):\n",
    "        ow = np.zeros_like(a=self.X_train[0])\n",
    "        ob = 0\n",
    "        \n",
    "        for i in range(self.n_iters):\n",
    "            w_, b_ = self.diff_params_wb(w=ow, b=ob)\n",
    "            ow = ow - (self.lambda_ * w_)\n",
    "            ob = ob - (self.lambda_ * b_)\n",
    "            self.wb_params['w'].append(ow)\n",
    "            self.wb_params['b'].append(ob)\n",
    "        \n",
    "        return ow, ob\n",
    "    \n",
    "    def predict(self, with_plot=False, save_process=False):\n",
    "        y_test_preds = np.dot(self.X_test, self.w) + self.b\n",
    "        y_train_preds = np.dot(self.X_train, self.w) + self.b\n",
    "        \n",
    "        if with_plot:\n",
    "            fig = plt.figure(figsize=(10, 4))\n",
    "\n",
    "            ax1 = fig.add_subplot(1, 2, 1)\n",
    "            ax1.title.set_text('Training')\n",
    "            ax1.scatter(self.X_train, self.y_train, label='points')\n",
    "            ax1.plot(self.X_train, y_train_preds, color='red', label='best fit')\n",
    "            ax1.legend()\n",
    "            \n",
    "            ax2 = fig.add_subplot(1, 2, 2)\n",
    "            ax2.title.set_text(\"Testing\")\n",
    "            ax2.scatter(self.X_test, self.y_test, label='points')\n",
    "            ax2.plot(self.X_test, y_test_preds, color='red', label='best fit')\n",
    "            ax2.legend()\n",
    "            \n",
    "            plt.show()\n",
    "        \n",
    "        if save_process:\n",
    "            self.save_process_togif(test_x=self.X_test, test_y=self.y_test)\n",
    "        \n",
    "        return y_test_preds\n",
    "    \n",
    "    def save_process_togif(self, test_x, test_y):\n",
    "        wp = self.wb_params['w']\n",
    "        bp = self.wb_params['b']\n",
    "\n",
    "        c = 0\n",
    "        for i in range(0, len(wp), 50):\n",
    "            c += 1\n",
    "            d = '0' + str(c) if (len(str(c)) == 1) else str(c)\n",
    "            test_p = np.dot(test_x, wp[i]) + bp[i]\n",
    "        \n",
    "            fig = plt.figure(figsize=(10, 10))\n",
    "            plt.title(\"Testing\")\n",
    "            plt.scatter(test_x, test_y, label='points')\n",
    "            plt.plot(test_x, test_p, color='red', label='best fit')\n",
    "            plt.legend()\n",
    "            plt.savefig('{}-lr-plot.png'.format(d))\n",
    "            plt.close(fig)\n",
    "        \n",
    "        path = os.getcwd()\n",
    "        files_list = os.listdir(path=path)\n",
    "        png_list = [i for i in files_list if (i[0] != '.') and (i.split('.')[1] == 'png')]\n",
    "        png_list.sort()\n",
    "        png_gif = [imageio.imread(i) for i in png_list]\n",
    "        kargs = {'duration': 1}\n",
    "        gif_name = 'process-lin-reg.gif'\n",
    "        imageio.mimsave(gif_name, png_gif, **kargs)\n",
    "        print('Process saved in → ', path + '\\\\' + gif_name)\n",
    "        \n",
    "        return None\n",
    "        \n",
    "    def score(self, preds):\n",
    "        preds = np.array(preds)\n",
    "        \n",
    "        if (len(self.y_test) == len(preds)):\n",
    "            y_act_mean = np.mean(self.y_test)\n",
    "            sst = np.sum((self.y_test - y_act_mean) ** 2)\n",
    "            ssr = np.sum((self.y_test - preds) ** 2)\n",
    "            return (1 - (ssr / sst))\n",
    "        return \"Lengths do not match\""
   ]
  },
  {
   "cell_type": "markdown",
   "metadata": {},
   "source": [
    "### Testing"
   ]
  },
  {
   "cell_type": "code",
   "execution_count": 9,
   "metadata": {},
   "outputs": [],
   "source": [
    "lr = LinearRegression(\n",
    "    train_df=train_df, \n",
    "    test_df=test_df, \n",
    "    label='col2', \n",
    "    lambda_=0.01, \n",
    "    n_iters=1000\n",
    ")"
   ]
  },
  {
   "cell_type": "code",
   "execution_count": 10,
   "metadata": {},
   "outputs": [
    {
     "data": {
      "text/plain": [
       "array([6.19270391])"
      ]
     },
     "execution_count": 10,
     "metadata": {},
     "output_type": "execute_result"
    }
   ],
   "source": [
    "lr.w"
   ]
  },
  {
   "cell_type": "code",
   "execution_count": 11,
   "metadata": {},
   "outputs": [
    {
     "data": {
      "text/plain": [
       "-0.15889637257408215"
      ]
     },
     "execution_count": 11,
     "metadata": {},
     "output_type": "execute_result"
    }
   ],
   "source": [
    "lr.b"
   ]
  },
  {
   "cell_type": "code",
   "execution_count": 12,
   "metadata": {
    "scrolled": true
   },
   "outputs": [
    {
     "data": {
      "image/png": "[encoded data removed]",
      "text/plain": [
       "<Figure size 720x288 with 2 Axes>"
      ]
     },
     "metadata": {
      "needs_background": "light"
     },
     "output_type": "display_data"
    },
    {
     "name": "stdout",
     "output_type": "stream",
     "text": [
      "Process saved in →  C:\\Users\\tapal\\OneDrive\\Desktop\\Sameer-Work\\aaic_practice\\Coding-ML\\Linear-Reg-algo\\process-lin-reg.gif\n"
     ]
    }
   ],
   "source": [
    "preds = lr.predict(with_plot=True, save_process=True)"
   ]
  },
  {
   "cell_type": "code",
   "execution_count": 13,
   "metadata": {},
   "outputs": [
    {
     "data": {
      "text/plain": [
       "0.5630871781610702"
      ]
     },
     "execution_count": 13,
     "metadata": {},
     "output_type": "execute_result"
    }
   ],
   "source": [
    "lr.score(preds=preds)"
   ]
  },
  {
   "cell_type": "markdown",
   "metadata": {},
   "source": [
    "### End"
   ]
  }
 ],
 "metadata": {
  "kernelspec": {
   "display_name": "Python 3",
   "language": "python",
   "name": "python3"
  },
  "language_info": {
   "codemirror_mode": {
    "name": "ipython",
    "version": 3
   },
   "file_extension": ".py",
   "mimetype": "text/x-python",
   "name": "python",
   "nbconvert_exporter": "python",
   "pygments_lexer": "ipython3",
   "version": "3.8.4"
  }
 },
 "nbformat": 4,
 "nbformat_minor": 4
}
